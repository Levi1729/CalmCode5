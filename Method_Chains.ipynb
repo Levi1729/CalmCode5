{
  "nbformat": 4,
  "nbformat_minor": 0,
  "metadata": {
    "colab": {
      "provenance": []
    },
    "kernelspec": {
      "name": "python3",
      "display_name": "Python 3"
    },
    "language_info": {
      "name": "python"
    }
  },
  "cells": [
    {
      "cell_type": "code",
      "execution_count": 2,
      "metadata": {
        "colab": {
          "base_uri": "https://localhost:8080/"
        },
        "id": "1LmHJA2IOHrY",
        "outputId": "cd2147d3-9a4e-49e2-d962-05aa3b1a2a1f"
      },
      "outputs": [
        {
          "output_type": "stream",
          "name": "stdout",
          "text": [
            "--2024-04-15 18:36:14--  https://calmcode.io/static/data/pokemon.json\n",
            "Resolving calmcode.io (calmcode.io)... 172.66.0.96, 162.159.140.98, 2606:4700:7::60, ...\n",
            "Connecting to calmcode.io (calmcode.io)|172.66.0.96|:443... connected.\n",
            "HTTP request sent, awaiting response... 200 OK\n",
            "Length: 59991 (59K) [application/json]\n",
            "Saving to: ‘pokemon.json’\n",
            "\n",
            "pokemon.json        100%[===================>]  58.58K  --.-KB/s    in 0s      \n",
            "\n",
            "2024-04-15 18:36:15 (141 MB/s) - ‘pokemon.json’ saved [59991/59991]\n",
            "\n"
          ]
        }
      ],
      "source": [
        "!wget https://calmcode.io/static/data/pokemon.json"
      ]
    },
    {
      "cell_type": "markdown",
      "source": [
        "We have downloaded the dataset from website and uploaded it to google colab runtime."
      ],
      "metadata": {
        "id": "21V31RCsteYy"
      }
    },
    {
      "cell_type": "code",
      "source": [
        "import json\n",
        "import pathlib\n",
        "\n",
        "file_path = 'pokemon.json'\n",
        "\n",
        "with open(file_path, 'r') as file:\n",
        "    poke_dict = json.load(file)\n"
      ],
      "metadata": {
        "id": "gP3nWJ41DJ8T"
      },
      "execution_count": 6,
      "outputs": []
    },
    {
      "cell_type": "code",
      "source": [
        "poke_dict[:4]"
      ],
      "metadata": {
        "colab": {
          "base_uri": "https://localhost:8080/"
        },
        "id": "CCZ5kExfEDYb",
        "outputId": "d5d3ae00-d6dc-41d3-c221-eb34fdf3d7f5"
      },
      "execution_count": 9,
      "outputs": [
        {
          "output_type": "execute_result",
          "data": {
            "text/plain": [
              "[{'name': 'Bulbasaur',\n",
              "  'type': ['Grass', 'Poison'],\n",
              "  'total': 318,\n",
              "  'hp': 45,\n",
              "  'attack': 49},\n",
              " {'name': 'Ivysaur',\n",
              "  'type': ['Grass', 'Poison'],\n",
              "  'total': 405,\n",
              "  'hp': 60,\n",
              "  'attack': 62},\n",
              " {'name': 'Venusaur',\n",
              "  'type': ['Grass', 'Poison'],\n",
              "  'total': 525,\n",
              "  'hp': 80,\n",
              "  'attack': 82},\n",
              " {'name': 'VenusaurMega Venusaur',\n",
              "  'type': ['Grass', 'Poison'],\n",
              "  'total': 625,\n",
              "  'hp': 80,\n",
              "  'attack': 100}]"
            ]
          },
          "metadata": {},
          "execution_count": 9
        }
      ]
    },
    {
      "cell_type": "markdown",
      "source": [
        "Now we have loaded the dataset as a list of dictionaries and dataset is not following convinent format. It is having lot of attributes like name, type, total stats, hp, attack etc\n",
        "\n",
        "We cannot efficeintly use pandas module to work with this type of data, so let us use a new complex topic \"Method Chains\". This topic is a mix of Fuctional Programming and Object Oriented Programming. It is very effective to perform operations on these type of datasets."
      ],
      "metadata": {
        "id": "E5vL4PJ1ERHa"
      }
    },
    {
      "cell_type": "code",
      "source": [
        "class Clumper:\n",
        "    def __init__(self, blob):\n",
        "        self.blob = blob\n",
        "\n",
        "    def keep(self, func):\n",
        "        return [d for d in self.blob if func(d)]"
      ],
      "metadata": {
        "id": "laDjXGzXFCDw"
      },
      "execution_count": 10,
      "outputs": []
    },
    {
      "cell_type": "code",
      "source": [
        "Clumper(poke_dict).keep(lambda d: 'Dragon' in d['type'])"
      ],
      "metadata": {
        "colab": {
          "base_uri": "https://localhost:8080/"
        },
        "id": "KEheSTNgGQY0",
        "outputId": "e35b4e27-63ed-47cd-adb4-7f90c5c7a6f8"
      },
      "execution_count": 11,
      "outputs": [
        {
          "output_type": "execute_result",
          "data": {
            "text/plain": [
              "[{'name': 'CharizardMega Charizard X',\n",
              "  'type': ['Fire', 'Dragon'],\n",
              "  'total': 634,\n",
              "  'hp': 78,\n",
              "  'attack': 130},\n",
              " {'name': 'Dratini', 'type': ['Dragon'], 'total': 300, 'hp': 41, 'attack': 64},\n",
              " {'name': 'Dragonair',\n",
              "  'type': ['Dragon'],\n",
              "  'total': 420,\n",
              "  'hp': 61,\n",
              "  'attack': 84},\n",
              " {'name': 'Dragonite',\n",
              "  'type': ['Dragon', 'Flying'],\n",
              "  'total': 600,\n",
              "  'hp': 91,\n",
              "  'attack': 134},\n",
              " {'name': 'AmpharosMega Ampharos',\n",
              "  'type': ['Electric', 'Dragon'],\n",
              "  'total': 610,\n",
              "  'hp': 90,\n",
              "  'attack': 95},\n",
              " {'name': 'Kingdra',\n",
              "  'type': ['Water', 'Dragon'],\n",
              "  'total': 540,\n",
              "  'hp': 75,\n",
              "  'attack': 95},\n",
              " {'name': 'SceptileMega Sceptile',\n",
              "  'type': ['Grass', 'Dragon'],\n",
              "  'total': 630,\n",
              "  'hp': 70,\n",
              "  'attack': 110},\n",
              " {'name': 'Vibrava',\n",
              "  'type': ['Ground', 'Dragon'],\n",
              "  'total': 340,\n",
              "  'hp': 50,\n",
              "  'attack': 70},\n",
              " {'name': 'Flygon',\n",
              "  'type': ['Ground', 'Dragon'],\n",
              "  'total': 520,\n",
              "  'hp': 80,\n",
              "  'attack': 100},\n",
              " {'name': 'Altaria',\n",
              "  'type': ['Dragon', 'Flying'],\n",
              "  'total': 490,\n",
              "  'hp': 75,\n",
              "  'attack': 70},\n",
              " {'name': 'AltariaMega Altaria',\n",
              "  'type': ['Dragon', 'Fairy'],\n",
              "  'total': 590,\n",
              "  'hp': 75,\n",
              "  'attack': 110},\n",
              " {'name': 'Bagon', 'type': ['Dragon'], 'total': 300, 'hp': 45, 'attack': 75},\n",
              " {'name': 'Shelgon', 'type': ['Dragon'], 'total': 420, 'hp': 65, 'attack': 95},\n",
              " {'name': 'Salamence',\n",
              "  'type': ['Dragon', 'Flying'],\n",
              "  'total': 600,\n",
              "  'hp': 95,\n",
              "  'attack': 135},\n",
              " {'name': 'SalamenceMega Salamence',\n",
              "  'type': ['Dragon', 'Flying'],\n",
              "  'total': 700,\n",
              "  'hp': 95,\n",
              "  'attack': 145},\n",
              " {'name': 'Latias',\n",
              "  'type': ['Dragon', 'Psychic'],\n",
              "  'total': 600,\n",
              "  'hp': 80,\n",
              "  'attack': 80},\n",
              " {'name': 'LatiasMega Latias',\n",
              "  'type': ['Dragon', 'Psychic'],\n",
              "  'total': 700,\n",
              "  'hp': 80,\n",
              "  'attack': 100},\n",
              " {'name': 'Latios',\n",
              "  'type': ['Dragon', 'Psychic'],\n",
              "  'total': 600,\n",
              "  'hp': 80,\n",
              "  'attack': 90},\n",
              " {'name': 'LatiosMega Latios',\n",
              "  'type': ['Dragon', 'Psychic'],\n",
              "  'total': 700,\n",
              "  'hp': 80,\n",
              "  'attack': 130},\n",
              " {'name': 'Rayquaza',\n",
              "  'type': ['Dragon', 'Flying'],\n",
              "  'total': 680,\n",
              "  'hp': 105,\n",
              "  'attack': 150},\n",
              " {'name': 'RayquazaMega Rayquaza',\n",
              "  'type': ['Dragon', 'Flying'],\n",
              "  'total': 780,\n",
              "  'hp': 105,\n",
              "  'attack': 180},\n",
              " {'name': 'Gible',\n",
              "  'type': ['Dragon', 'Ground'],\n",
              "  'total': 300,\n",
              "  'hp': 58,\n",
              "  'attack': 70},\n",
              " {'name': 'Gabite',\n",
              "  'type': ['Dragon', 'Ground'],\n",
              "  'total': 410,\n",
              "  'hp': 68,\n",
              "  'attack': 90},\n",
              " {'name': 'Garchomp',\n",
              "  'type': ['Dragon', 'Ground'],\n",
              "  'total': 600,\n",
              "  'hp': 108,\n",
              "  'attack': 130},\n",
              " {'name': 'GarchompMega Garchomp',\n",
              "  'type': ['Dragon', 'Ground'],\n",
              "  'total': 700,\n",
              "  'hp': 108,\n",
              "  'attack': 170},\n",
              " {'name': 'Dialga',\n",
              "  'type': ['Steel', 'Dragon'],\n",
              "  'total': 680,\n",
              "  'hp': 100,\n",
              "  'attack': 120},\n",
              " {'name': 'Palkia',\n",
              "  'type': ['Water', 'Dragon'],\n",
              "  'total': 680,\n",
              "  'hp': 90,\n",
              "  'attack': 120},\n",
              " {'name': 'GiratinaAltered Forme',\n",
              "  'type': ['Ghost', 'Dragon'],\n",
              "  'total': 680,\n",
              "  'hp': 150,\n",
              "  'attack': 100},\n",
              " {'name': 'GiratinaOrigin Forme',\n",
              "  'type': ['Ghost', 'Dragon'],\n",
              "  'total': 680,\n",
              "  'hp': 150,\n",
              "  'attack': 120},\n",
              " {'name': 'Axew', 'type': ['Dragon'], 'total': 320, 'hp': 46, 'attack': 87},\n",
              " {'name': 'Fraxure',\n",
              "  'type': ['Dragon'],\n",
              "  'total': 410,\n",
              "  'hp': 66,\n",
              "  'attack': 117},\n",
              " {'name': 'Haxorus',\n",
              "  'type': ['Dragon'],\n",
              "  'total': 540,\n",
              "  'hp': 76,\n",
              "  'attack': 147},\n",
              " {'name': 'Druddigon',\n",
              "  'type': ['Dragon'],\n",
              "  'total': 485,\n",
              "  'hp': 77,\n",
              "  'attack': 120},\n",
              " {'name': 'Deino',\n",
              "  'type': ['Dark', 'Dragon'],\n",
              "  'total': 300,\n",
              "  'hp': 52,\n",
              "  'attack': 65},\n",
              " {'name': 'Zweilous',\n",
              "  'type': ['Dark', 'Dragon'],\n",
              "  'total': 420,\n",
              "  'hp': 72,\n",
              "  'attack': 85},\n",
              " {'name': 'Hydreigon',\n",
              "  'type': ['Dark', 'Dragon'],\n",
              "  'total': 600,\n",
              "  'hp': 92,\n",
              "  'attack': 105},\n",
              " {'name': 'Reshiram',\n",
              "  'type': ['Dragon', 'Fire'],\n",
              "  'total': 680,\n",
              "  'hp': 100,\n",
              "  'attack': 120},\n",
              " {'name': 'Zekrom',\n",
              "  'type': ['Dragon', 'Electric'],\n",
              "  'total': 680,\n",
              "  'hp': 100,\n",
              "  'attack': 150},\n",
              " {'name': 'Kyurem',\n",
              "  'type': ['Dragon', 'Ice'],\n",
              "  'total': 660,\n",
              "  'hp': 125,\n",
              "  'attack': 130},\n",
              " {'name': 'KyuremBlack Kyurem',\n",
              "  'type': ['Dragon', 'Ice'],\n",
              "  'total': 700,\n",
              "  'hp': 125,\n",
              "  'attack': 170},\n",
              " {'name': 'KyuremWhite Kyurem',\n",
              "  'type': ['Dragon', 'Ice'],\n",
              "  'total': 700,\n",
              "  'hp': 125,\n",
              "  'attack': 120},\n",
              " {'name': 'Dragalge',\n",
              "  'type': ['Poison', 'Dragon'],\n",
              "  'total': 494,\n",
              "  'hp': 65,\n",
              "  'attack': 75},\n",
              " {'name': 'Tyrunt',\n",
              "  'type': ['Rock', 'Dragon'],\n",
              "  'total': 362,\n",
              "  'hp': 58,\n",
              "  'attack': 89},\n",
              " {'name': 'Tyrantrum',\n",
              "  'type': ['Rock', 'Dragon'],\n",
              "  'total': 521,\n",
              "  'hp': 82,\n",
              "  'attack': 121},\n",
              " {'name': 'Goomy', 'type': ['Dragon'], 'total': 300, 'hp': 45, 'attack': 50},\n",
              " {'name': 'Sliggoo', 'type': ['Dragon'], 'total': 452, 'hp': 68, 'attack': 75},\n",
              " {'name': 'Goodra', 'type': ['Dragon'], 'total': 600, 'hp': 90, 'attack': 100},\n",
              " {'name': 'Noibat',\n",
              "  'type': ['Flying', 'Dragon'],\n",
              "  'total': 245,\n",
              "  'hp': 40,\n",
              "  'attack': 30},\n",
              " {'name': 'Noivern',\n",
              "  'type': ['Flying', 'Dragon'],\n",
              "  'total': 535,\n",
              "  'hp': 85,\n",
              "  'attack': 70},\n",
              " {'name': 'Zygarde50% Forme',\n",
              "  'type': ['Dragon', 'Ground'],\n",
              "  'total': 600,\n",
              "  'hp': 108,\n",
              "  'attack': 100}]"
            ]
          },
          "metadata": {},
          "execution_count": 11
        }
      ]
    },
    {
      "cell_type": "markdown",
      "source": [
        "This Clumper class is very flexible and helps us to analyze and filter the data according to our desire or requirements. It will take the dataset as input and returns the appropriate list we desire as output.\n",
        "\n",
        "Let us say we want to work with only \"dragon\" type pokemon from the dataset, so we want to extract only those. We can do it by using the above code.\n",
        "\n",
        "We are using \"Lambda\" functions topic to apply condition without even defining the function.\n",
        "\n",
        "There we go we got all dragon type pokemon as list.\n",
        "Everything looks fine but we are having one issue.\n",
        "\n",
        "The keep method is returning the lists as output and if we want to apply another filtration to the list we cannot do as keep method cannot be applied on keep method as data is a list. So let us try to modify the code and get the output as Clumper object, so that we can apply as many keep methods on top it to get precise data with lot of filtrations."
      ],
      "metadata": {
        "id": "JIAflvaeFqZS"
      }
    },
    {
      "cell_type": "code",
      "source": [
        "class Clumper:\n",
        "    def __init__(self, blob):\n",
        "        self.blob = blob\n",
        "\n",
        "    def keep(self, func):\n",
        "        return Clumper([d for d in self.blob if func(d)])"
      ],
      "metadata": {
        "id": "UYUJQAWIGOLA"
      },
      "execution_count": 12,
      "outputs": []
    },
    {
      "cell_type": "code",
      "source": [
        "(Clumper(poke_dict)\n",
        "  .keep(lambda d: 'Dragon' in d['type'])\n",
        "  .keep(lambda d: d['hp'] > 100)\n",
        "  .blob)"
      ],
      "metadata": {
        "colab": {
          "base_uri": "https://localhost:8080/"
        },
        "id": "WqhoNnaAIAhl",
        "outputId": "784154c7-384d-483c-9e73-12d5285dee82"
      },
      "execution_count": 14,
      "outputs": [
        {
          "output_type": "execute_result",
          "data": {
            "text/plain": [
              "[{'name': 'Rayquaza',\n",
              "  'type': ['Dragon', 'Flying'],\n",
              "  'total': 680,\n",
              "  'hp': 105,\n",
              "  'attack': 150},\n",
              " {'name': 'RayquazaMega Rayquaza',\n",
              "  'type': ['Dragon', 'Flying'],\n",
              "  'total': 780,\n",
              "  'hp': 105,\n",
              "  'attack': 180},\n",
              " {'name': 'Garchomp',\n",
              "  'type': ['Dragon', 'Ground'],\n",
              "  'total': 600,\n",
              "  'hp': 108,\n",
              "  'attack': 130},\n",
              " {'name': 'GarchompMega Garchomp',\n",
              "  'type': ['Dragon', 'Ground'],\n",
              "  'total': 700,\n",
              "  'hp': 108,\n",
              "  'attack': 170},\n",
              " {'name': 'GiratinaAltered Forme',\n",
              "  'type': ['Ghost', 'Dragon'],\n",
              "  'total': 680,\n",
              "  'hp': 150,\n",
              "  'attack': 100},\n",
              " {'name': 'GiratinaOrigin Forme',\n",
              "  'type': ['Ghost', 'Dragon'],\n",
              "  'total': 680,\n",
              "  'hp': 150,\n",
              "  'attack': 120},\n",
              " {'name': 'Kyurem',\n",
              "  'type': ['Dragon', 'Ice'],\n",
              "  'total': 660,\n",
              "  'hp': 125,\n",
              "  'attack': 130},\n",
              " {'name': 'KyuremBlack Kyurem',\n",
              "  'type': ['Dragon', 'Ice'],\n",
              "  'total': 700,\n",
              "  'hp': 125,\n",
              "  'attack': 170},\n",
              " {'name': 'KyuremWhite Kyurem',\n",
              "  'type': ['Dragon', 'Ice'],\n",
              "  'total': 700,\n",
              "  'hp': 125,\n",
              "  'attack': 120},\n",
              " {'name': 'Zygarde50% Forme',\n",
              "  'type': ['Dragon', 'Ground'],\n",
              "  'total': 600,\n",
              "  'hp': 108,\n",
              "  'attack': 100}]"
            ]
          },
          "metadata": {},
          "execution_count": 14
        }
      ]
    },
    {
      "cell_type": "markdown",
      "source": [
        "Here we made two small modifications when compared with the previous code.\n",
        "Instead of returning a list we are returning a Clumper object and to that object we are applying methods woth conditions again and again as a chain.\n",
        "\n",
        "So we have got all the \"Dragon\" pokemon as the list of dictionaries in previous code but now we want to apply second condition to do further filtration for the result list. Let us say I want all the dragon pokemon whose hp is greater than 100.\n",
        "\n",
        "The above code bought us the list after applying two conditions: type must be \"dragon\" and hp must be greater than \"100\".\n",
        "\n",
        "So with this clumper object we can apply multiple conditions as a chain and get advanced filtering done."
      ],
      "metadata": {
        "id": "SobsktCsIK_9"
      }
    },
    {
      "cell_type": "markdown",
      "source": [
        "The above code satsified our requiremnet but still if there is a way to apply tow conditions on only one line as it will save lot of time and improve accuracy a lot better when dealing with large porgrams where we use multiple conditions.\n",
        "\n",
        "There is a way to do so. The code can be modified into:"
      ],
      "metadata": {
        "id": "2ZxJ-OHzLPgH"
      }
    },
    {
      "cell_type": "code",
      "source": [
        "class Clumper:\n",
        "    def __init__(self, blob):\n",
        "        self.blob = blob\n",
        "\n",
        "    def keep(self, *funcs):\n",
        "        data = self.blob\n",
        "        for func in funcs:\n",
        "            data = [d for d in data if func(d)]\n",
        "        return Clumper(data)"
      ],
      "metadata": {
        "id": "1zlHvu6FJnRI"
      },
      "execution_count": 15,
      "outputs": []
    },
    {
      "cell_type": "code",
      "source": [
        "(Clumper(poke_dict)\n",
        "  .keep(lambda d: 'Dragon' in d['type'],\n",
        "        lambda d: d['hp'] > 100)\n",
        "  .blob)"
      ],
      "metadata": {
        "colab": {
          "base_uri": "https://localhost:8080/"
        },
        "id": "tOdkig40Lxji",
        "outputId": "d1def49c-5cc3-48a1-d7d6-067b62cbe099"
      },
      "execution_count": 16,
      "outputs": [
        {
          "output_type": "execute_result",
          "data": {
            "text/plain": [
              "[{'name': 'Rayquaza',\n",
              "  'type': ['Dragon', 'Flying'],\n",
              "  'total': 680,\n",
              "  'hp': 105,\n",
              "  'attack': 150},\n",
              " {'name': 'RayquazaMega Rayquaza',\n",
              "  'type': ['Dragon', 'Flying'],\n",
              "  'total': 780,\n",
              "  'hp': 105,\n",
              "  'attack': 180},\n",
              " {'name': 'Garchomp',\n",
              "  'type': ['Dragon', 'Ground'],\n",
              "  'total': 600,\n",
              "  'hp': 108,\n",
              "  'attack': 130},\n",
              " {'name': 'GarchompMega Garchomp',\n",
              "  'type': ['Dragon', 'Ground'],\n",
              "  'total': 700,\n",
              "  'hp': 108,\n",
              "  'attack': 170},\n",
              " {'name': 'GiratinaAltered Forme',\n",
              "  'type': ['Ghost', 'Dragon'],\n",
              "  'total': 680,\n",
              "  'hp': 150,\n",
              "  'attack': 100},\n",
              " {'name': 'GiratinaOrigin Forme',\n",
              "  'type': ['Ghost', 'Dragon'],\n",
              "  'total': 680,\n",
              "  'hp': 150,\n",
              "  'attack': 120},\n",
              " {'name': 'Kyurem',\n",
              "  'type': ['Dragon', 'Ice'],\n",
              "  'total': 660,\n",
              "  'hp': 125,\n",
              "  'attack': 130},\n",
              " {'name': 'KyuremBlack Kyurem',\n",
              "  'type': ['Dragon', 'Ice'],\n",
              "  'total': 700,\n",
              "  'hp': 125,\n",
              "  'attack': 170},\n",
              " {'name': 'KyuremWhite Kyurem',\n",
              "  'type': ['Dragon', 'Ice'],\n",
              "  'total': 700,\n",
              "  'hp': 125,\n",
              "  'attack': 120},\n",
              " {'name': 'Zygarde50% Forme',\n",
              "  'type': ['Dragon', 'Ground'],\n",
              "  'total': 600,\n",
              "  'hp': 108,\n",
              "  'attack': 100}]"
            ]
          },
          "metadata": {},
          "execution_count": 16
        }
      ]
    },
    {
      "cell_type": "markdown",
      "source": [
        "What we have did here we specified the code that we might pass multiple functions by adding '*' before the function name and passed funcs such that multiple functions might be passed.\n",
        "\n",
        "Then we iterated the lambda functionn again and again whenever we see a new data 'd' and after iteration, the list gets updated with the results.\n",
        "\n",
        "So the function iterates twice with the same line code. First time, first filteration will be applied and then another filteration is applied. In this we way, we can apply both the conditions and do multiple filterations just like the previous code and that too we can do it in less number of lines"
      ],
      "metadata": {
        "id": "deJBWeWxPPyS"
      }
    },
    {
      "cell_type": "markdown",
      "source": [
        "we are getting the data from first that too in the dataset order, instead of that we can get data from anywhere from top or bottom with filterations.\n",
        "\n",
        "That can be done using the head and tails methods.\n",
        "Let see the practical demonstration"
      ],
      "metadata": {
        "id": "-W_KVWMcQjGN"
      }
    },
    {
      "cell_type": "code",
      "source": [
        "class Clumper:\n",
        "    def __init__(self, blob):\n",
        "        self.blob = blob\n",
        "\n",
        "    def keep(self, *funcs):\n",
        "        data = self.blob\n",
        "        for func in funcs:\n",
        "            data = [d for d in data if func(d)]\n",
        "        return Clumper(data)\n",
        "\n",
        "    def head(self, n):\n",
        "        return Clumper([self.blob[i] for i in range(n)])\n",
        "\n",
        "    def tail(self, n):\n",
        "        return Clumper([self.blob[-i] for i in range(1, n+1)])\n"
      ],
      "metadata": {
        "id": "DggRhrPoQXIn"
      },
      "execution_count": 18,
      "outputs": []
    },
    {
      "cell_type": "code",
      "source": [
        "(Clumper(poke_dict)\n",
        "  .keep(lambda d: 'Dragon' in d['type'],\n",
        "        lambda d: d['hp'] > 100)\n",
        "  .head(10)\n",
        "  .tail(10)\n",
        "  .blob)"
      ],
      "metadata": {
        "colab": {
          "base_uri": "https://localhost:8080/"
        },
        "id": "09XHFQQrRLTj",
        "outputId": "0e80ad68-a87d-4361-9ad9-055911a869f4"
      },
      "execution_count": 19,
      "outputs": [
        {
          "output_type": "execute_result",
          "data": {
            "text/plain": [
              "[{'name': 'Zygarde50% Forme',\n",
              "  'type': ['Dragon', 'Ground'],\n",
              "  'total': 600,\n",
              "  'hp': 108,\n",
              "  'attack': 100},\n",
              " {'name': 'KyuremWhite Kyurem',\n",
              "  'type': ['Dragon', 'Ice'],\n",
              "  'total': 700,\n",
              "  'hp': 125,\n",
              "  'attack': 120},\n",
              " {'name': 'KyuremBlack Kyurem',\n",
              "  'type': ['Dragon', 'Ice'],\n",
              "  'total': 700,\n",
              "  'hp': 125,\n",
              "  'attack': 170},\n",
              " {'name': 'Kyurem',\n",
              "  'type': ['Dragon', 'Ice'],\n",
              "  'total': 660,\n",
              "  'hp': 125,\n",
              "  'attack': 130},\n",
              " {'name': 'GiratinaOrigin Forme',\n",
              "  'type': ['Ghost', 'Dragon'],\n",
              "  'total': 680,\n",
              "  'hp': 150,\n",
              "  'attack': 120},\n",
              " {'name': 'GiratinaAltered Forme',\n",
              "  'type': ['Ghost', 'Dragon'],\n",
              "  'total': 680,\n",
              "  'hp': 150,\n",
              "  'attack': 100},\n",
              " {'name': 'GarchompMega Garchomp',\n",
              "  'type': ['Dragon', 'Ground'],\n",
              "  'total': 700,\n",
              "  'hp': 108,\n",
              "  'attack': 170},\n",
              " {'name': 'Garchomp',\n",
              "  'type': ['Dragon', 'Ground'],\n",
              "  'total': 600,\n",
              "  'hp': 108,\n",
              "  'attack': 130},\n",
              " {'name': 'RayquazaMega Rayquaza',\n",
              "  'type': ['Dragon', 'Flying'],\n",
              "  'total': 780,\n",
              "  'hp': 105,\n",
              "  'attack': 180},\n",
              " {'name': 'Rayquaza',\n",
              "  'type': ['Dragon', 'Flying'],\n",
              "  'total': 680,\n",
              "  'hp': 105,\n",
              "  'attack': 150}]"
            ]
          },
          "metadata": {},
          "execution_count": 19
        }
      ]
    },
    {
      "cell_type": "markdown",
      "source": [
        "With the above code we got top 10 items from the list with head method and we got below 10 items with tail method"
      ],
      "metadata": {
        "id": "6CLPNDxcRXAw"
      }
    },
    {
      "cell_type": "code",
      "source": [
        "class Clumper:\n",
        "    def __init__(self, blob):\n",
        "        self.blob = blob\n",
        "\n",
        "    def keep(self, *funcs):\n",
        "        data = self.blob\n",
        "        for func in funcs:\n",
        "            data = [d for d in data if func(d)]\n",
        "        return Clumper(data)\n",
        "\n",
        "    def head(self, n):\n",
        "        return Clumper([self.blob[i] for i in range(n)])\n",
        "\n",
        "    def tail(self, n):\n",
        "        return Clumper([self.blob[-i] for i in range(1, n+1)])\n",
        "\n",
        "    def select(self, *keys):\n",
        "        return Clumper([{k: d[k] for k in keys} for d in self.blob])"
      ],
      "metadata": {
        "id": "YIsKtrMLRkg3"
      },
      "execution_count": 21,
      "outputs": []
    },
    {
      "cell_type": "code",
      "source": [
        "(Clumper(poke_dict)\n",
        "  .keep(lambda d: 'Dragon' in d['type'],\n",
        "        lambda d: d['hp'] > 100)\n",
        "  .select('name', 'hp')\n",
        "  .head(10)\n",
        "  .blob)"
      ],
      "metadata": {
        "colab": {
          "base_uri": "https://localhost:8080/"
        },
        "id": "Fyn-Q2__R8NO",
        "outputId": "42ec4a49-af09-4e07-b62b-b26f6ba4db88"
      },
      "execution_count": 22,
      "outputs": [
        {
          "output_type": "execute_result",
          "data": {
            "text/plain": [
              "[{'name': 'Rayquaza', 'hp': 105},\n",
              " {'name': 'RayquazaMega Rayquaza', 'hp': 105},\n",
              " {'name': 'Garchomp', 'hp': 108},\n",
              " {'name': 'GarchompMega Garchomp', 'hp': 108},\n",
              " {'name': 'GiratinaAltered Forme', 'hp': 150},\n",
              " {'name': 'GiratinaOrigin Forme', 'hp': 150},\n",
              " {'name': 'Kyurem', 'hp': 125},\n",
              " {'name': 'KyuremBlack Kyurem', 'hp': 125},\n",
              " {'name': 'KyuremWhite Kyurem', 'hp': 125},\n",
              " {'name': 'Zygarde50% Forme', 'hp': 108}]"
            ]
          },
          "metadata": {},
          "execution_count": 22
        }
      ]
    },
    {
      "cell_type": "markdown",
      "source": [
        "Along with customizing the order of elements, we can also apply select method to get our required columns.\n",
        "\n",
        "It works using the dictionary comprehension by specifying which keys we want and we are going to follow the same concept like above, iterating again and again as we see the conditions."
      ],
      "metadata": {
        "id": "AzsikvlnSGdZ"
      }
    },
    {
      "cell_type": "code",
      "source": [
        "class Clumper:\n",
        "    def __init__(self, blob):\n",
        "        self.blob = blob\n",
        "\n",
        "    def keep(self, *funcs):\n",
        "        data = self.blob\n",
        "        for func in funcs:\n",
        "            data = [d for d in data if func(d)]\n",
        "        return Clumper(data)\n",
        "\n",
        "    def head(self, n):\n",
        "        return Clumper([self.blob[i] for i in range(n)])\n",
        "\n",
        "    def tail(self, n):\n",
        "        return Clumper([self.blob[-i] for i in range(1, n+1)])\n",
        "\n",
        "    def select(self, *keys):\n",
        "        return Clumper([{k: d[k] for k in keys} for d in self.blob])\n",
        "\n",
        "    def mutate(self, **kwargs):\n",
        "      data = self.blob\n",
        "      for key, func in kwargs.items():\n",
        "          for i in range(len(data)):\n",
        "              data[i][key] = func(data[i])\n",
        "      return Clumper(data)"
      ],
      "metadata": {
        "id": "_r7ILbEkSf5Q"
      },
      "execution_count": 23,
      "outputs": []
    },
    {
      "cell_type": "code",
      "source": [
        "(Clumper(poke_dict)\n",
        "  .keep(lambda d: 'Dragon' in d['type'],\n",
        "        lambda d: d['hp'] > 100)\n",
        "  .select('name', 'hp')\n",
        "  .mutate(hp = lambda d: d['hp'] * 2,\n",
        "          hp4 = lambda d: d['hp'] * 4)\n",
        "  .blob)"
      ],
      "metadata": {
        "colab": {
          "base_uri": "https://localhost:8080/"
        },
        "id": "-4YZSbnDTGuT",
        "outputId": "a1ad4a09-8cae-44ed-8188-23fd66ed2029"
      },
      "execution_count": 24,
      "outputs": [
        {
          "output_type": "execute_result",
          "data": {
            "text/plain": [
              "[{'name': 'Rayquaza', 'hp': 210, 'hp4': 840},\n",
              " {'name': 'RayquazaMega Rayquaza', 'hp': 210, 'hp4': 840},\n",
              " {'name': 'Garchomp', 'hp': 216, 'hp4': 864},\n",
              " {'name': 'GarchompMega Garchomp', 'hp': 216, 'hp4': 864},\n",
              " {'name': 'GiratinaAltered Forme', 'hp': 300, 'hp4': 1200},\n",
              " {'name': 'GiratinaOrigin Forme', 'hp': 300, 'hp4': 1200},\n",
              " {'name': 'Kyurem', 'hp': 250, 'hp4': 1000},\n",
              " {'name': 'KyuremBlack Kyurem', 'hp': 250, 'hp4': 1000},\n",
              " {'name': 'KyuremWhite Kyurem', 'hp': 250, 'hp4': 1000},\n",
              " {'name': 'Zygarde50% Forme', 'hp': 216, 'hp4': 864}]"
            ]
          },
          "metadata": {},
          "execution_count": 24
        }
      ]
    },
    {
      "cell_type": "markdown",
      "source": [
        "In the above code demonstration, we are giving user the freedom to override existing columns or add new columns to the dataset.\n",
        "\n",
        "We can even have functions specify user about how they are done systematically without changing functionality.\n",
        "\n",
        "Now we are passing the name and hp to the method as kwargs arguments and for each key and func in the items, we are taking data and giving it to the function and store it in the data segment of the keys. then we will return the Clumper object. This is the code in the mutate method.\n",
        "\n",
        "we are adding new coulumns of hp with double of hp value and four times the hp value in hp4\n",
        "\n",
        "\n",
        "\n"
      ],
      "metadata": {
        "id": "og8UUvcGTNGW"
      }
    },
    {
      "cell_type": "code",
      "source": [
        "class Clumper:\n",
        "    def __init__(self, blob):\n",
        "        self.blob = blob\n",
        "\n",
        "    def keep(self, *funcs):\n",
        "        data = self.blob\n",
        "        for func in funcs:\n",
        "            data = [d for d in data if func(d)]\n",
        "        return Clumper(data)\n",
        "\n",
        "    def head(self, n):\n",
        "        return Clumper([self.blob[i] for i in range(n)])\n",
        "\n",
        "    def tail(self, n):\n",
        "        return Clumper([self.blob[-i] for i in range(1, n+1)])\n",
        "\n",
        "    def select(self, *keys):\n",
        "        return Clumper([{k: d[k] for k in keys} for d in self.blob])\n",
        "\n",
        "    def mutate(self, **kwargs):\n",
        "        data = self.blob\n",
        "        for key, func in kwargs.items():\n",
        "            for i in range(len(data)):\n",
        "                data[i][key] = func(data[i])\n",
        "        return Clumper(data)\n",
        "\n",
        "    def sort(self, key, reverse=False):\n",
        "        return Clumper(sorted(self.blob, key=key, reverse=reverse))\n"
      ],
      "metadata": {
        "id": "BGgvNvqWUbRt"
      },
      "execution_count": 25,
      "outputs": []
    },
    {
      "cell_type": "code",
      "source": [
        "(Clumper(poke_dict)\n",
        "    .keep(lambda d: 'Dragon' in d['type'],\n",
        "          lambda d: d['hp'] > 100)\n",
        "    .select('name', 'hp')\n",
        "    .sort(lambda d: d['hp'], reverse=True)\n",
        "    .blob)\n"
      ],
      "metadata": {
        "colab": {
          "base_uri": "https://localhost:8080/"
        },
        "id": "Qj7UZ7acUnTk",
        "outputId": "b8cb458d-a5d1-4a80-91fc-97f7c40098ee"
      },
      "execution_count": 26,
      "outputs": [
        {
          "output_type": "execute_result",
          "data": {
            "text/plain": [
              "[{'name': 'GiratinaAltered Forme', 'hp': 150},\n",
              " {'name': 'GiratinaOrigin Forme', 'hp': 150},\n",
              " {'name': 'Kyurem', 'hp': 125},\n",
              " {'name': 'KyuremBlack Kyurem', 'hp': 125},\n",
              " {'name': 'KyuremWhite Kyurem', 'hp': 125},\n",
              " {'name': 'Garchomp', 'hp': 108},\n",
              " {'name': 'GarchompMega Garchomp', 'hp': 108},\n",
              " {'name': 'Zygarde50% Forme', 'hp': 108},\n",
              " {'name': 'Rayquaza', 'hp': 105},\n",
              " {'name': 'RayquazaMega Rayquaza', 'hp': 105}]"
            ]
          },
          "metadata": {},
          "execution_count": 26
        }
      ]
    },
    {
      "cell_type": "markdown",
      "source": [
        "By now, we can see that object oriented approach and function apporach was combined to get the desired outputs.\n",
        "\n",
        "Now we can even sort the tuples. Now we have generic functions in the python and implement the sorting into the code, we can sort the first elements in the tuple.\n",
        "\n",
        "If we want to do the same and implement the sorting to the second elements of the tuple, we need to use the lambda functions concept. we are passing lambda function to the keys in tuple and then we apply the logic after assigning it a value.\n",
        "\n",
        "In similar to above, we can specify what we are doing and how we are doing via functions."
      ],
      "metadata": {
        "id": "cPExRrDMUpsc"
      }
    },
    {
      "cell_type": "code",
      "source": [
        "class Clumper:\n",
        "    def __init__(self, blob):\n",
        "        self.blob = blob\n",
        "\n",
        "    def keep(self, *funcs):\n",
        "        data = self.blob\n",
        "        for func in funcs:\n",
        "            data = [d for d in data if func(d)]\n",
        "        return Clumper(data)\n",
        "\n",
        "    def head(self, n):\n",
        "        return Clumper([self.blob[i] for i in range(n)])\n",
        "\n",
        "    def tail(self, n):\n",
        "        return Clumper([self.blob[-i] for i in range(1, n+1)])\n",
        "\n",
        "    def select(self, *keys):\n",
        "        return Clumper([{k: d[k] for k in keys} for d in self.blob])\n",
        "\n",
        "    def mutate(self, **kwargs):\n",
        "        data = self.blob\n",
        "        for key, func in kwargs.items():\n",
        "            for i in range(len(data)):\n",
        "                data[i][key] = func(data[i])\n",
        "        return Clumper(data)\n",
        "\n",
        "    def sort(self, key, reverse=False):\n",
        "        return Clumper(sorted(self.blob, key=key, reverse=reverse))"
      ],
      "metadata": {
        "id": "FpC1XCAJV2oc"
      },
      "execution_count": null,
      "outputs": []
    },
    {
      "cell_type": "code",
      "source": [
        "(Clumper(poke_dict)\n",
        "  .keep(lambda d: 'Grass' in d['type'],\n",
        "        lambda d: d['hp'] < 60)\n",
        "  .mutate(ratio=lambda d: d['attack']/d['hp'])\n",
        "  .select('name', 'ratio')\n",
        "  .sort(lambda d: d['ratio'], reverse=True)\n",
        "  .head(15)\n",
        "  .blob)"
      ],
      "metadata": {
        "id": "wHrJqyBHV-Wl"
      },
      "execution_count": null,
      "outputs": []
    },
    {
      "cell_type": "markdown",
      "source": [
        "It's easy to make changes to the analysis here because the reading is from left to right top to bottom. We can change the order of lines which will change the order of the code which makes it easy to reason about the steps that are being applied to our data.\n",
        "\n",
        "Model Chains API is much more powerful and flexible than traditional pandas module to even perform any changes with specifying the changes with the help of functions. We can even improve speed further by workinh on this module. It can even perfrom better and exceed limitations of pandas and python."
      ],
      "metadata": {
        "id": "CYT8A4lGWAN8"
      }
    }
  ]
}